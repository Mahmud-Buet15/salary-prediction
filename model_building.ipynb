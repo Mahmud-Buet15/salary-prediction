{
 "cells": [
  {
   "cell_type": "code",
   "execution_count": 1,
   "id": "68efa0cf",
   "metadata": {},
   "outputs": [],
   "source": [
    "import pandas as pd\n",
    "import matplotlib.pyplot as plt\n",
    "import numpy as np"
   ]
  },
  {
   "cell_type": "code",
   "execution_count": 75,
   "id": "b1e5413b",
   "metadata": {},
   "outputs": [
    {
     "data": {
      "text/html": [
       "<div>\n",
       "<style scoped>\n",
       "    .dataframe tbody tr th:only-of-type {\n",
       "        vertical-align: middle;\n",
       "    }\n",
       "\n",
       "    .dataframe tbody tr th {\n",
       "        vertical-align: top;\n",
       "    }\n",
       "\n",
       "    .dataframe thead th {\n",
       "        text-align: right;\n",
       "    }\n",
       "</style>\n",
       "<table border=\"1\" class=\"dataframe\">\n",
       "  <thead>\n",
       "    <tr style=\"text-align: right;\">\n",
       "      <th></th>\n",
       "      <th>Job Title</th>\n",
       "      <th>Salary Estimate</th>\n",
       "      <th>Job Description</th>\n",
       "      <th>Rating</th>\n",
       "      <th>Company Name</th>\n",
       "      <th>Location</th>\n",
       "      <th>Headquarters</th>\n",
       "      <th>Size</th>\n",
       "      <th>Founded</th>\n",
       "      <th>Type of ownership</th>\n",
       "      <th>...</th>\n",
       "      <th>age</th>\n",
       "      <th>python_yn</th>\n",
       "      <th>excel_yn</th>\n",
       "      <th>spark_yn</th>\n",
       "      <th>ml_yn</th>\n",
       "      <th>sql_yn</th>\n",
       "      <th>job_simp</th>\n",
       "      <th>seniority</th>\n",
       "      <th>desc_len</th>\n",
       "      <th>num_comp</th>\n",
       "    </tr>\n",
       "  </thead>\n",
       "  <tbody>\n",
       "    <tr>\n",
       "      <th>0</th>\n",
       "      <td>Data Scientist</td>\n",
       "      <td>$53K-$91K (Glassdoor est.)</td>\n",
       "      <td>Data Scientist\\r\\nLocation: Albuquerque, NM\\r\\...</td>\n",
       "      <td>3.8</td>\n",
       "      <td>Tecolote Research\\r\\n3.8</td>\n",
       "      <td>Albuquerque, NM</td>\n",
       "      <td>Goleta, CA</td>\n",
       "      <td>501 to 1000 employees</td>\n",
       "      <td>1973</td>\n",
       "      <td>Company - Private</td>\n",
       "      <td>...</td>\n",
       "      <td>47</td>\n",
       "      <td>1</td>\n",
       "      <td>1</td>\n",
       "      <td>0</td>\n",
       "      <td>1</td>\n",
       "      <td>0</td>\n",
       "      <td>data scientist</td>\n",
       "      <td>na</td>\n",
       "      <td>2555</td>\n",
       "      <td>0</td>\n",
       "    </tr>\n",
       "    <tr>\n",
       "      <th>1</th>\n",
       "      <td>Healthcare Data Scientist</td>\n",
       "      <td>$63K-$112K (Glassdoor est.)</td>\n",
       "      <td>What You Will Do:\\r\\n\\r\\nI. General Summary\\r\\...</td>\n",
       "      <td>3.4</td>\n",
       "      <td>University of Maryland Medical System\\r\\n3.4</td>\n",
       "      <td>Linthicum, MD</td>\n",
       "      <td>Baltimore, MD</td>\n",
       "      <td>10000+ employees</td>\n",
       "      <td>1984</td>\n",
       "      <td>Other Organization</td>\n",
       "      <td>...</td>\n",
       "      <td>36</td>\n",
       "      <td>1</td>\n",
       "      <td>0</td>\n",
       "      <td>0</td>\n",
       "      <td>1</td>\n",
       "      <td>0</td>\n",
       "      <td>data scientist</td>\n",
       "      <td>na</td>\n",
       "      <td>4828</td>\n",
       "      <td>0</td>\n",
       "    </tr>\n",
       "    <tr>\n",
       "      <th>2</th>\n",
       "      <td>Data Scientist</td>\n",
       "      <td>$80K-$90K (Glassdoor est.)</td>\n",
       "      <td>KnowBe4, Inc. is a high growth information sec...</td>\n",
       "      <td>4.8</td>\n",
       "      <td>KnowBe4\\r\\n4.8</td>\n",
       "      <td>Clearwater, FL</td>\n",
       "      <td>Clearwater, FL</td>\n",
       "      <td>501 to 1000 employees</td>\n",
       "      <td>2010</td>\n",
       "      <td>Company - Private</td>\n",
       "      <td>...</td>\n",
       "      <td>10</td>\n",
       "      <td>1</td>\n",
       "      <td>1</td>\n",
       "      <td>1</td>\n",
       "      <td>1</td>\n",
       "      <td>1</td>\n",
       "      <td>data scientist</td>\n",
       "      <td>na</td>\n",
       "      <td>3495</td>\n",
       "      <td>0</td>\n",
       "    </tr>\n",
       "    <tr>\n",
       "      <th>3</th>\n",
       "      <td>Data Scientist</td>\n",
       "      <td>$56K-$97K (Glassdoor est.)</td>\n",
       "      <td>*Organization and Job ID**\\r\\nJob ID: 310709\\r...</td>\n",
       "      <td>3.8</td>\n",
       "      <td>PNNL\\r\\n3.8</td>\n",
       "      <td>Richland, WA</td>\n",
       "      <td>Richland, WA</td>\n",
       "      <td>1001 to 5000 employees</td>\n",
       "      <td>1965</td>\n",
       "      <td>Government</td>\n",
       "      <td>...</td>\n",
       "      <td>55</td>\n",
       "      <td>1</td>\n",
       "      <td>0</td>\n",
       "      <td>0</td>\n",
       "      <td>1</td>\n",
       "      <td>0</td>\n",
       "      <td>data scientist</td>\n",
       "      <td>na</td>\n",
       "      <td>3926</td>\n",
       "      <td>3</td>\n",
       "    </tr>\n",
       "    <tr>\n",
       "      <th>4</th>\n",
       "      <td>Data Scientist</td>\n",
       "      <td>$86K-$143K (Glassdoor est.)</td>\n",
       "      <td>Data Scientist\\r\\nAffinity Solutions / Marketi...</td>\n",
       "      <td>2.9</td>\n",
       "      <td>Affinity Solutions\\r\\n2.9</td>\n",
       "      <td>New York, NY</td>\n",
       "      <td>New York, NY</td>\n",
       "      <td>51 to 200 employees</td>\n",
       "      <td>1998</td>\n",
       "      <td>Company - Private</td>\n",
       "      <td>...</td>\n",
       "      <td>22</td>\n",
       "      <td>1</td>\n",
       "      <td>1</td>\n",
       "      <td>0</td>\n",
       "      <td>1</td>\n",
       "      <td>1</td>\n",
       "      <td>data scientist</td>\n",
       "      <td>na</td>\n",
       "      <td>2748</td>\n",
       "      <td>3</td>\n",
       "    </tr>\n",
       "  </tbody>\n",
       "</table>\n",
       "<p>5 rows × 32 columns</p>\n",
       "</div>"
      ],
      "text/plain": [
       "                   Job Title              Salary Estimate  \\\n",
       "0             Data Scientist   $53K-$91K (Glassdoor est.)   \n",
       "1  Healthcare Data Scientist  $63K-$112K (Glassdoor est.)   \n",
       "2             Data Scientist   $80K-$90K (Glassdoor est.)   \n",
       "3             Data Scientist   $56K-$97K (Glassdoor est.)   \n",
       "4             Data Scientist  $86K-$143K (Glassdoor est.)   \n",
       "\n",
       "                                     Job Description  Rating  \\\n",
       "0  Data Scientist\\r\\nLocation: Albuquerque, NM\\r\\...     3.8   \n",
       "1  What You Will Do:\\r\\n\\r\\nI. General Summary\\r\\...     3.4   \n",
       "2  KnowBe4, Inc. is a high growth information sec...     4.8   \n",
       "3  *Organization and Job ID**\\r\\nJob ID: 310709\\r...     3.8   \n",
       "4  Data Scientist\\r\\nAffinity Solutions / Marketi...     2.9   \n",
       "\n",
       "                                   Company Name         Location  \\\n",
       "0                      Tecolote Research\\r\\n3.8  Albuquerque, NM   \n",
       "1  University of Maryland Medical System\\r\\n3.4    Linthicum, MD   \n",
       "2                                KnowBe4\\r\\n4.8   Clearwater, FL   \n",
       "3                                   PNNL\\r\\n3.8     Richland, WA   \n",
       "4                     Affinity Solutions\\r\\n2.9     New York, NY   \n",
       "\n",
       "     Headquarters                    Size  Founded   Type of ownership  ...  \\\n",
       "0      Goleta, CA   501 to 1000 employees     1973   Company - Private  ...   \n",
       "1   Baltimore, MD        10000+ employees     1984  Other Organization  ...   \n",
       "2  Clearwater, FL   501 to 1000 employees     2010   Company - Private  ...   \n",
       "3    Richland, WA  1001 to 5000 employees     1965          Government  ...   \n",
       "4    New York, NY     51 to 200 employees     1998   Company - Private  ...   \n",
       "\n",
       "  age python_yn excel_yn spark_yn  ml_yn  sql_yn        job_simp  seniority  \\\n",
       "0  47         1        1        0      1       0  data scientist         na   \n",
       "1  36         1        0        0      1       0  data scientist         na   \n",
       "2  10         1        1        1      1       1  data scientist         na   \n",
       "3  55         1        0        0      1       0  data scientist         na   \n",
       "4  22         1        1        0      1       1  data scientist         na   \n",
       "\n",
       "   desc_len num_comp  \n",
       "0      2555        0  \n",
       "1      4828        0  \n",
       "2      3495        0  \n",
       "3      3926        3  \n",
       "4      2748        3  \n",
       "\n",
       "[5 rows x 32 columns]"
      ]
     },
     "execution_count": 75,
     "metadata": {},
     "output_type": "execute_result"
    }
   ],
   "source": [
    "df=pd.read_csv('salaray_data_eda.csv')\n",
    "df.head()"
   ]
  },
  {
   "cell_type": "markdown",
   "id": "7e526c8a",
   "metadata": {},
   "source": [
    "## Plans\n",
    "- choose relevant columns\n",
    "- get dummy variables\n",
    "- train test split\n",
    "- Multiple linear regression\n",
    "- Lasso regression\n",
    "- Random forest\n",
    "- Tune models using GridsearchCV\n",
    "- test ensembles\n",
    " "
   ]
  },
  {
   "cell_type": "markdown",
   "id": "ea3a684f",
   "metadata": {},
   "source": [
    "### choose relevant columns"
   ]
  },
  {
   "cell_type": "code",
   "execution_count": 4,
   "id": "80675504",
   "metadata": {},
   "outputs": [
    {
     "data": {
      "text/plain": [
       "Index(['Job Title', 'Salary Estimate', 'Job Description', 'Rating',\n",
       "       'Company Name', 'Location', 'Headquarters', 'Size', 'Founded',\n",
       "       'Type of ownership', 'Industry', 'Sector', 'Revenue', 'Competitors',\n",
       "       'hourly', 'employer_provided', 'min_salary', 'max_salary', 'avg_salary',\n",
       "       'company_txt', 'state', 'same_state', 'age', 'python_yn', 'excel_yn',\n",
       "       'spark_yn', 'ml_yn', 'sql_yn', 'job_simp', 'seniority', 'desc_len',\n",
       "       'num_comp'],\n",
       "      dtype='object')"
      ]
     },
     "execution_count": 4,
     "metadata": {},
     "output_type": "execute_result"
    }
   ],
   "source": [
    "df.columns"
   ]
  },
  {
   "cell_type": "code",
   "execution_count": 76,
   "id": "0efa55bd",
   "metadata": {},
   "outputs": [],
   "source": [
    "df_model=df[['avg_salary','Rating', 'Size','Type of ownership', 'Industry', 'Sector', 'Revenue','num_comp',\n",
    "       'hourly', 'employer_provided', 'state', 'same_state', 'age', 'python_yn', 'excel_yn',\n",
    "       'spark_yn', 'ml_yn', 'sql_yn', 'job_simp', 'seniority', 'desc_len']]"
   ]
  },
  {
   "cell_type": "markdown",
   "id": "b72dadb3",
   "metadata": {},
   "source": [
    "### get dummy variables\n",
    "\n",
    "This affects the categorical variables. One new column gets created for each category. <br>\n",
    "Example:<br>\n",
    "If one column has five category, 5 new columns/variables will be created from this one column.\n"
   ]
  },
  {
   "cell_type": "code",
   "execution_count": 77,
   "id": "0c09539f",
   "metadata": {},
   "outputs": [],
   "source": [
    "df_dum=pd.get_dummies(df_model)"
   ]
  },
  {
   "cell_type": "code",
   "execution_count": 78,
   "id": "230ee15d",
   "metadata": {},
   "outputs": [
    {
     "data": {
      "text/html": [
       "<div>\n",
       "<style scoped>\n",
       "    .dataframe tbody tr th:only-of-type {\n",
       "        vertical-align: middle;\n",
       "    }\n",
       "\n",
       "    .dataframe tbody tr th {\n",
       "        vertical-align: top;\n",
       "    }\n",
       "\n",
       "    .dataframe thead th {\n",
       "        text-align: right;\n",
       "    }\n",
       "</style>\n",
       "<table border=\"1\" class=\"dataframe\">\n",
       "  <thead>\n",
       "    <tr style=\"text-align: right;\">\n",
       "      <th></th>\n",
       "      <th>avg_salary</th>\n",
       "      <th>Rating</th>\n",
       "      <th>num_comp</th>\n",
       "      <th>hourly</th>\n",
       "      <th>employer_provided</th>\n",
       "      <th>same_state</th>\n",
       "      <th>age</th>\n",
       "      <th>python_yn</th>\n",
       "      <th>excel_yn</th>\n",
       "      <th>spark_yn</th>\n",
       "      <th>...</th>\n",
       "      <th>job_simp_data scientist</th>\n",
       "      <th>job_simp_director</th>\n",
       "      <th>job_simp_manager</th>\n",
       "      <th>job_simp_mle</th>\n",
       "      <th>job_simp_na</th>\n",
       "      <th>job_simp_vp</th>\n",
       "      <th>seniority_junior</th>\n",
       "      <th>seniority_lead</th>\n",
       "      <th>seniority_na</th>\n",
       "      <th>seniority_senior</th>\n",
       "    </tr>\n",
       "  </thead>\n",
       "  <tbody>\n",
       "    <tr>\n",
       "      <th>0</th>\n",
       "      <td>72.0</td>\n",
       "      <td>3.8</td>\n",
       "      <td>0</td>\n",
       "      <td>0</td>\n",
       "      <td>0</td>\n",
       "      <td>0</td>\n",
       "      <td>47</td>\n",
       "      <td>1</td>\n",
       "      <td>1</td>\n",
       "      <td>0</td>\n",
       "      <td>...</td>\n",
       "      <td>1</td>\n",
       "      <td>0</td>\n",
       "      <td>0</td>\n",
       "      <td>0</td>\n",
       "      <td>0</td>\n",
       "      <td>0</td>\n",
       "      <td>0</td>\n",
       "      <td>0</td>\n",
       "      <td>1</td>\n",
       "      <td>0</td>\n",
       "    </tr>\n",
       "    <tr>\n",
       "      <th>1</th>\n",
       "      <td>87.5</td>\n",
       "      <td>3.4</td>\n",
       "      <td>0</td>\n",
       "      <td>0</td>\n",
       "      <td>0</td>\n",
       "      <td>0</td>\n",
       "      <td>36</td>\n",
       "      <td>1</td>\n",
       "      <td>0</td>\n",
       "      <td>0</td>\n",
       "      <td>...</td>\n",
       "      <td>1</td>\n",
       "      <td>0</td>\n",
       "      <td>0</td>\n",
       "      <td>0</td>\n",
       "      <td>0</td>\n",
       "      <td>0</td>\n",
       "      <td>0</td>\n",
       "      <td>0</td>\n",
       "      <td>1</td>\n",
       "      <td>0</td>\n",
       "    </tr>\n",
       "    <tr>\n",
       "      <th>2</th>\n",
       "      <td>85.0</td>\n",
       "      <td>4.8</td>\n",
       "      <td>0</td>\n",
       "      <td>0</td>\n",
       "      <td>0</td>\n",
       "      <td>1</td>\n",
       "      <td>10</td>\n",
       "      <td>1</td>\n",
       "      <td>1</td>\n",
       "      <td>1</td>\n",
       "      <td>...</td>\n",
       "      <td>1</td>\n",
       "      <td>0</td>\n",
       "      <td>0</td>\n",
       "      <td>0</td>\n",
       "      <td>0</td>\n",
       "      <td>0</td>\n",
       "      <td>0</td>\n",
       "      <td>0</td>\n",
       "      <td>1</td>\n",
       "      <td>0</td>\n",
       "    </tr>\n",
       "    <tr>\n",
       "      <th>3</th>\n",
       "      <td>76.5</td>\n",
       "      <td>3.8</td>\n",
       "      <td>3</td>\n",
       "      <td>0</td>\n",
       "      <td>0</td>\n",
       "      <td>1</td>\n",
       "      <td>55</td>\n",
       "      <td>1</td>\n",
       "      <td>0</td>\n",
       "      <td>0</td>\n",
       "      <td>...</td>\n",
       "      <td>1</td>\n",
       "      <td>0</td>\n",
       "      <td>0</td>\n",
       "      <td>0</td>\n",
       "      <td>0</td>\n",
       "      <td>0</td>\n",
       "      <td>0</td>\n",
       "      <td>0</td>\n",
       "      <td>1</td>\n",
       "      <td>0</td>\n",
       "    </tr>\n",
       "    <tr>\n",
       "      <th>4</th>\n",
       "      <td>114.5</td>\n",
       "      <td>2.9</td>\n",
       "      <td>3</td>\n",
       "      <td>0</td>\n",
       "      <td>0</td>\n",
       "      <td>1</td>\n",
       "      <td>22</td>\n",
       "      <td>1</td>\n",
       "      <td>1</td>\n",
       "      <td>0</td>\n",
       "      <td>...</td>\n",
       "      <td>1</td>\n",
       "      <td>0</td>\n",
       "      <td>0</td>\n",
       "      <td>0</td>\n",
       "      <td>0</td>\n",
       "      <td>0</td>\n",
       "      <td>0</td>\n",
       "      <td>0</td>\n",
       "      <td>1</td>\n",
       "      <td>0</td>\n",
       "    </tr>\n",
       "  </tbody>\n",
       "</table>\n",
       "<p>5 rows × 181 columns</p>\n",
       "</div>"
      ],
      "text/plain": [
       "   avg_salary  Rating  num_comp  hourly  employer_provided  same_state  age  \\\n",
       "0        72.0     3.8         0       0                  0           0   47   \n",
       "1        87.5     3.4         0       0                  0           0   36   \n",
       "2        85.0     4.8         0       0                  0           1   10   \n",
       "3        76.5     3.8         3       0                  0           1   55   \n",
       "4       114.5     2.9         3       0                  0           1   22   \n",
       "\n",
       "   python_yn  excel_yn  spark_yn  ...  job_simp_data scientist  \\\n",
       "0          1         1         0  ...                        1   \n",
       "1          1         0         0  ...                        1   \n",
       "2          1         1         1  ...                        1   \n",
       "3          1         0         0  ...                        1   \n",
       "4          1         1         0  ...                        1   \n",
       "\n",
       "   job_simp_director  job_simp_manager  job_simp_mle  job_simp_na  \\\n",
       "0                  0                 0             0            0   \n",
       "1                  0                 0             0            0   \n",
       "2                  0                 0             0            0   \n",
       "3                  0                 0             0            0   \n",
       "4                  0                 0             0            0   \n",
       "\n",
       "   job_simp_vp  seniority_junior  seniority_lead  seniority_na  \\\n",
       "0            0                 0               0             1   \n",
       "1            0                 0               0             1   \n",
       "2            0                 0               0             1   \n",
       "3            0                 0               0             1   \n",
       "4            0                 0               0             1   \n",
       "\n",
       "   seniority_senior  \n",
       "0                 0  \n",
       "1                 0  \n",
       "2                 0  \n",
       "3                 0  \n",
       "4                 0  \n",
       "\n",
       "[5 rows x 181 columns]"
      ]
     },
     "execution_count": 78,
     "metadata": {},
     "output_type": "execute_result"
    }
   ],
   "source": [
    "# print(df_dum.to_string())\n",
    "df_dum.head()"
   ]
  },
  {
   "cell_type": "code",
   "execution_count": 79,
   "id": "34c0b271",
   "metadata": {},
   "outputs": [
    {
     "name": "stdout",
     "output_type": "stream",
     "text": [
      "['avg_salary', 'Rating', 'num_comp', 'hourly', 'employer_provided', 'same_state', 'age', 'python_yn', 'excel_yn', 'spark_yn', 'ml_yn', 'sql_yn', 'desc_len', 'Size_-1', 'Size_1 to 50 employees', 'Size_10000+ employees', 'Size_1001 to 5000 employees', 'Size_201 to 500 employees', 'Size_5001 to 10000 employees', 'Size_501 to 1000 employees', 'Size_51 to 200 employees', 'Size_Unknown', 'Type of ownership_-1', 'Type of ownership_College / University', 'Type of ownership_Company - Private', 'Type of ownership_Company - Public', 'Type of ownership_Government', 'Type of ownership_Hospital', 'Type of ownership_Nonprofit Organization', 'Type of ownership_Other Organization', 'Type of ownership_School / School District', 'Type of ownership_Subsidiary or Business Segment', 'Type of ownership_Unknown', 'Industry_-1', 'Industry_Accounting', 'Industry_Advertising & Marketing', 'Industry_Aerospace & Defense', 'Industry_Architectural & Engineering Services', 'Industry_Auctions & Galleries', 'Industry_Banks & Credit Unions', 'Industry_Beauty & Personal Accessories Stores', 'Industry_Biotech & Pharmaceuticals', 'Industry_Brokerage Services', 'Industry_Colleges & Universities', 'Industry_Computer Hardware & Software', 'Industry_Construction', 'Industry_Consulting', 'Industry_Consumer Product Rental', 'Industry_Consumer Products Manufacturing', 'Industry_Department, Clothing, & Shoe Stores', 'Industry_Education Training Services', 'Industry_Energy', 'Industry_Enterprise Software & Network Solutions', 'Industry_Farm Support Services', 'Industry_Federal Agencies', 'Industry_Financial Analytics & Research', 'Industry_Financial Transaction Processing', 'Industry_Food & Beverage Manufacturing', 'Industry_Gambling', 'Industry_Gas Stations', 'Industry_Health Care Products Manufacturing', 'Industry_Health Care Services & Hospitals', 'Industry_Health, Beauty, & Fitness', 'Industry_IT Services', 'Industry_Industrial Manufacturing', 'Industry_Insurance Agencies & Brokerages', 'Industry_Insurance Carriers', 'Industry_Internet', 'Industry_Investment Banking & Asset Management', 'Industry_K-12 Education', 'Industry_Lending', 'Industry_Logistics & Supply Chain', 'Industry_Metals Brokers', 'Industry_Mining', 'Industry_Motion Picture Production & Distribution', 'Industry_Other Retail Stores', 'Industry_Real Estate', 'Industry_Religious Organizations', 'Industry_Research & Development', 'Industry_Security Services', 'Industry_Social Assistance', 'Industry_Sporting Goods Stores', 'Industry_Staffing & Outsourcing', 'Industry_Stock Exchanges', 'Industry_TV Broadcast & Cable Networks', 'Industry_Telecommunications Manufacturing', 'Industry_Telecommunications Services', 'Industry_Transportation Equipment Manufacturing', 'Industry_Transportation Management', 'Industry_Travel Agencies', 'Industry_Trucking', 'Industry_Video Games', 'Industry_Wholesale', 'Sector_-1', 'Sector_Accounting & Legal', 'Sector_Aerospace & Defense', 'Sector_Agriculture & Forestry', 'Sector_Arts, Entertainment & Recreation', 'Sector_Biotech & Pharmaceuticals', 'Sector_Business Services', 'Sector_Construction, Repair & Maintenance', 'Sector_Consumer Services', 'Sector_Education', 'Sector_Finance', 'Sector_Government', 'Sector_Health Care', 'Sector_Information Technology', 'Sector_Insurance', 'Sector_Manufacturing', 'Sector_Media', 'Sector_Mining & Metals', 'Sector_Non-Profit', 'Sector_Oil, Gas, Energy & Utilities', 'Sector_Real Estate', 'Sector_Retail', 'Sector_Telecommunications', 'Sector_Transportation & Logistics', 'Sector_Travel & Tourism', 'Revenue_$1 to $2 billion (USD)', 'Revenue_$1 to $5 million (USD)', 'Revenue_$10 to $25 million (USD)', 'Revenue_$10+ billion (USD)', 'Revenue_$100 to $500 million (USD)', 'Revenue_$2 to $5 billion (USD)', 'Revenue_$25 to $50 million (USD)', 'Revenue_$5 to $10 billion (USD)', 'Revenue_$5 to $10 million (USD)', 'Revenue_$50 to $100 million (USD)', 'Revenue_$500 million to $1 billion (USD)', 'Revenue_-1', 'Revenue_Less than $1 million (USD)', 'Revenue_Unknown / Non-Applicable', 'state_ AL', 'state_ AZ', 'state_ CA', 'state_ CO', 'state_ CT', 'state_ DC', 'state_ DE', 'state_ FL', 'state_ GA', 'state_ IA', 'state_ ID', 'state_ IL', 'state_ IN', 'state_ KS', 'state_ KY', 'state_ LA', 'state_ MA', 'state_ MD', 'state_ MI', 'state_ MN', 'state_ MO', 'state_ NC', 'state_ NE', 'state_ NJ', 'state_ NM', 'state_ NY', 'state_ OH', 'state_ OR', 'state_ PA', 'state_ RI', 'state_ SC', 'state_ TN', 'state_ TX', 'state_ UT', 'state_ VA', 'state_ WA', 'state_ WI', 'job_simp_data analyst', 'job_simp_data engineer', 'job_simp_data scientist', 'job_simp_director', 'job_simp_manager', 'job_simp_mle', 'job_simp_na', 'job_simp_vp', 'seniority_junior', 'seniority_lead', 'seniority_na', 'seniority_senior']\n"
     ]
    }
   ],
   "source": [
    "print(df_dum.columns.to_list())"
   ]
  },
  {
   "cell_type": "markdown",
   "id": "ebe91f86",
   "metadata": {},
   "source": [
    "### train test split\n"
   ]
  },
  {
   "cell_type": "code",
   "execution_count": 35,
   "id": "65c37685",
   "metadata": {},
   "outputs": [
    {
     "data": {
      "text/html": [
       "<div>\n",
       "<style scoped>\n",
       "    .dataframe tbody tr th:only-of-type {\n",
       "        vertical-align: middle;\n",
       "    }\n",
       "\n",
       "    .dataframe tbody tr th {\n",
       "        vertical-align: top;\n",
       "    }\n",
       "\n",
       "    .dataframe thead th {\n",
       "        text-align: right;\n",
       "    }\n",
       "</style>\n",
       "<table border=\"1\" class=\"dataframe\">\n",
       "  <thead>\n",
       "    <tr style=\"text-align: right;\">\n",
       "      <th></th>\n",
       "      <th>avg_salary</th>\n",
       "      <th>Rating</th>\n",
       "      <th>num_comp</th>\n",
       "      <th>hourly</th>\n",
       "      <th>employer_provided</th>\n",
       "      <th>same_state</th>\n",
       "      <th>age</th>\n",
       "      <th>python_yn</th>\n",
       "      <th>excel_yn</th>\n",
       "      <th>spark_yn</th>\n",
       "      <th>...</th>\n",
       "      <th>job_simp_data scientist</th>\n",
       "      <th>job_simp_director</th>\n",
       "      <th>job_simp_manager</th>\n",
       "      <th>job_simp_mle</th>\n",
       "      <th>job_simp_na</th>\n",
       "      <th>job_simp_vp</th>\n",
       "      <th>seniority_junior</th>\n",
       "      <th>seniority_lead</th>\n",
       "      <th>seniority_na</th>\n",
       "      <th>seniority_senior</th>\n",
       "    </tr>\n",
       "  </thead>\n",
       "  <tbody>\n",
       "    <tr>\n",
       "      <th>0</th>\n",
       "      <td>72.0</td>\n",
       "      <td>3.8</td>\n",
       "      <td>0</td>\n",
       "      <td>0</td>\n",
       "      <td>0</td>\n",
       "      <td>0</td>\n",
       "      <td>47</td>\n",
       "      <td>1</td>\n",
       "      <td>1</td>\n",
       "      <td>0</td>\n",
       "      <td>...</td>\n",
       "      <td>1</td>\n",
       "      <td>0</td>\n",
       "      <td>0</td>\n",
       "      <td>0</td>\n",
       "      <td>0</td>\n",
       "      <td>0</td>\n",
       "      <td>0</td>\n",
       "      <td>0</td>\n",
       "      <td>1</td>\n",
       "      <td>0</td>\n",
       "    </tr>\n",
       "    <tr>\n",
       "      <th>1</th>\n",
       "      <td>87.5</td>\n",
       "      <td>3.4</td>\n",
       "      <td>0</td>\n",
       "      <td>0</td>\n",
       "      <td>0</td>\n",
       "      <td>0</td>\n",
       "      <td>36</td>\n",
       "      <td>1</td>\n",
       "      <td>0</td>\n",
       "      <td>0</td>\n",
       "      <td>...</td>\n",
       "      <td>1</td>\n",
       "      <td>0</td>\n",
       "      <td>0</td>\n",
       "      <td>0</td>\n",
       "      <td>0</td>\n",
       "      <td>0</td>\n",
       "      <td>0</td>\n",
       "      <td>0</td>\n",
       "      <td>1</td>\n",
       "      <td>0</td>\n",
       "    </tr>\n",
       "    <tr>\n",
       "      <th>2</th>\n",
       "      <td>85.0</td>\n",
       "      <td>4.8</td>\n",
       "      <td>0</td>\n",
       "      <td>0</td>\n",
       "      <td>0</td>\n",
       "      <td>1</td>\n",
       "      <td>10</td>\n",
       "      <td>1</td>\n",
       "      <td>1</td>\n",
       "      <td>1</td>\n",
       "      <td>...</td>\n",
       "      <td>1</td>\n",
       "      <td>0</td>\n",
       "      <td>0</td>\n",
       "      <td>0</td>\n",
       "      <td>0</td>\n",
       "      <td>0</td>\n",
       "      <td>0</td>\n",
       "      <td>0</td>\n",
       "      <td>1</td>\n",
       "      <td>0</td>\n",
       "    </tr>\n",
       "    <tr>\n",
       "      <th>3</th>\n",
       "      <td>76.5</td>\n",
       "      <td>3.8</td>\n",
       "      <td>3</td>\n",
       "      <td>0</td>\n",
       "      <td>0</td>\n",
       "      <td>1</td>\n",
       "      <td>55</td>\n",
       "      <td>1</td>\n",
       "      <td>0</td>\n",
       "      <td>0</td>\n",
       "      <td>...</td>\n",
       "      <td>1</td>\n",
       "      <td>0</td>\n",
       "      <td>0</td>\n",
       "      <td>0</td>\n",
       "      <td>0</td>\n",
       "      <td>0</td>\n",
       "      <td>0</td>\n",
       "      <td>0</td>\n",
       "      <td>1</td>\n",
       "      <td>0</td>\n",
       "    </tr>\n",
       "    <tr>\n",
       "      <th>4</th>\n",
       "      <td>114.5</td>\n",
       "      <td>2.9</td>\n",
       "      <td>3</td>\n",
       "      <td>0</td>\n",
       "      <td>0</td>\n",
       "      <td>1</td>\n",
       "      <td>22</td>\n",
       "      <td>1</td>\n",
       "      <td>1</td>\n",
       "      <td>0</td>\n",
       "      <td>...</td>\n",
       "      <td>1</td>\n",
       "      <td>0</td>\n",
       "      <td>0</td>\n",
       "      <td>0</td>\n",
       "      <td>0</td>\n",
       "      <td>0</td>\n",
       "      <td>0</td>\n",
       "      <td>0</td>\n",
       "      <td>1</td>\n",
       "      <td>0</td>\n",
       "    </tr>\n",
       "  </tbody>\n",
       "</table>\n",
       "<p>5 rows × 181 columns</p>\n",
       "</div>"
      ],
      "text/plain": [
       "   avg_salary  Rating  num_comp  hourly  employer_provided  same_state  age  \\\n",
       "0        72.0     3.8         0       0                  0           0   47   \n",
       "1        87.5     3.4         0       0                  0           0   36   \n",
       "2        85.0     4.8         0       0                  0           1   10   \n",
       "3        76.5     3.8         3       0                  0           1   55   \n",
       "4       114.5     2.9         3       0                  0           1   22   \n",
       "\n",
       "   python_yn  excel_yn  spark_yn  ...  job_simp_data scientist  \\\n",
       "0          1         1         0  ...                        1   \n",
       "1          1         0         0  ...                        1   \n",
       "2          1         1         1  ...                        1   \n",
       "3          1         0         0  ...                        1   \n",
       "4          1         1         0  ...                        1   \n",
       "\n",
       "   job_simp_director  job_simp_manager  job_simp_mle  job_simp_na  \\\n",
       "0                  0                 0             0            0   \n",
       "1                  0                 0             0            0   \n",
       "2                  0                 0             0            0   \n",
       "3                  0                 0             0            0   \n",
       "4                  0                 0             0            0   \n",
       "\n",
       "   job_simp_vp  seniority_junior  seniority_lead  seniority_na  \\\n",
       "0            0                 0               0             1   \n",
       "1            0                 0               0             1   \n",
       "2            0                 0               0             1   \n",
       "3            0                 0               0             1   \n",
       "4            0                 0               0             1   \n",
       "\n",
       "   seniority_senior  \n",
       "0                 0  \n",
       "1                 0  \n",
       "2                 0  \n",
       "3                 0  \n",
       "4                 0  \n",
       "\n",
       "[5 rows x 181 columns]"
      ]
     },
     "execution_count": 35,
     "metadata": {},
     "output_type": "execute_result"
    }
   ],
   "source": [
    "df_dum.head()"
   ]
  },
  {
   "cell_type": "code",
   "execution_count": 36,
   "id": "ab752b9b",
   "metadata": {},
   "outputs": [
    {
     "data": {
      "text/html": [
       "<div>\n",
       "<style scoped>\n",
       "    .dataframe tbody tr th:only-of-type {\n",
       "        vertical-align: middle;\n",
       "    }\n",
       "\n",
       "    .dataframe tbody tr th {\n",
       "        vertical-align: top;\n",
       "    }\n",
       "\n",
       "    .dataframe thead th {\n",
       "        text-align: right;\n",
       "    }\n",
       "</style>\n",
       "<table border=\"1\" class=\"dataframe\">\n",
       "  <thead>\n",
       "    <tr style=\"text-align: right;\">\n",
       "      <th></th>\n",
       "      <th>Rating</th>\n",
       "      <th>num_comp</th>\n",
       "      <th>hourly</th>\n",
       "      <th>employer_provided</th>\n",
       "      <th>same_state</th>\n",
       "      <th>age</th>\n",
       "      <th>python_yn</th>\n",
       "      <th>excel_yn</th>\n",
       "      <th>spark_yn</th>\n",
       "      <th>ml_yn</th>\n",
       "      <th>...</th>\n",
       "      <th>job_simp_data scientist</th>\n",
       "      <th>job_simp_director</th>\n",
       "      <th>job_simp_manager</th>\n",
       "      <th>job_simp_mle</th>\n",
       "      <th>job_simp_na</th>\n",
       "      <th>job_simp_vp</th>\n",
       "      <th>seniority_junior</th>\n",
       "      <th>seniority_lead</th>\n",
       "      <th>seniority_na</th>\n",
       "      <th>seniority_senior</th>\n",
       "    </tr>\n",
       "  </thead>\n",
       "  <tbody>\n",
       "    <tr>\n",
       "      <th>0</th>\n",
       "      <td>3.8</td>\n",
       "      <td>0</td>\n",
       "      <td>0</td>\n",
       "      <td>0</td>\n",
       "      <td>0</td>\n",
       "      <td>47</td>\n",
       "      <td>1</td>\n",
       "      <td>1</td>\n",
       "      <td>0</td>\n",
       "      <td>1</td>\n",
       "      <td>...</td>\n",
       "      <td>1</td>\n",
       "      <td>0</td>\n",
       "      <td>0</td>\n",
       "      <td>0</td>\n",
       "      <td>0</td>\n",
       "      <td>0</td>\n",
       "      <td>0</td>\n",
       "      <td>0</td>\n",
       "      <td>1</td>\n",
       "      <td>0</td>\n",
       "    </tr>\n",
       "    <tr>\n",
       "      <th>1</th>\n",
       "      <td>3.4</td>\n",
       "      <td>0</td>\n",
       "      <td>0</td>\n",
       "      <td>0</td>\n",
       "      <td>0</td>\n",
       "      <td>36</td>\n",
       "      <td>1</td>\n",
       "      <td>0</td>\n",
       "      <td>0</td>\n",
       "      <td>1</td>\n",
       "      <td>...</td>\n",
       "      <td>1</td>\n",
       "      <td>0</td>\n",
       "      <td>0</td>\n",
       "      <td>0</td>\n",
       "      <td>0</td>\n",
       "      <td>0</td>\n",
       "      <td>0</td>\n",
       "      <td>0</td>\n",
       "      <td>1</td>\n",
       "      <td>0</td>\n",
       "    </tr>\n",
       "    <tr>\n",
       "      <th>2</th>\n",
       "      <td>4.8</td>\n",
       "      <td>0</td>\n",
       "      <td>0</td>\n",
       "      <td>0</td>\n",
       "      <td>1</td>\n",
       "      <td>10</td>\n",
       "      <td>1</td>\n",
       "      <td>1</td>\n",
       "      <td>1</td>\n",
       "      <td>1</td>\n",
       "      <td>...</td>\n",
       "      <td>1</td>\n",
       "      <td>0</td>\n",
       "      <td>0</td>\n",
       "      <td>0</td>\n",
       "      <td>0</td>\n",
       "      <td>0</td>\n",
       "      <td>0</td>\n",
       "      <td>0</td>\n",
       "      <td>1</td>\n",
       "      <td>0</td>\n",
       "    </tr>\n",
       "    <tr>\n",
       "      <th>3</th>\n",
       "      <td>3.8</td>\n",
       "      <td>3</td>\n",
       "      <td>0</td>\n",
       "      <td>0</td>\n",
       "      <td>1</td>\n",
       "      <td>55</td>\n",
       "      <td>1</td>\n",
       "      <td>0</td>\n",
       "      <td>0</td>\n",
       "      <td>1</td>\n",
       "      <td>...</td>\n",
       "      <td>1</td>\n",
       "      <td>0</td>\n",
       "      <td>0</td>\n",
       "      <td>0</td>\n",
       "      <td>0</td>\n",
       "      <td>0</td>\n",
       "      <td>0</td>\n",
       "      <td>0</td>\n",
       "      <td>1</td>\n",
       "      <td>0</td>\n",
       "    </tr>\n",
       "    <tr>\n",
       "      <th>4</th>\n",
       "      <td>2.9</td>\n",
       "      <td>3</td>\n",
       "      <td>0</td>\n",
       "      <td>0</td>\n",
       "      <td>1</td>\n",
       "      <td>22</td>\n",
       "      <td>1</td>\n",
       "      <td>1</td>\n",
       "      <td>0</td>\n",
       "      <td>1</td>\n",
       "      <td>...</td>\n",
       "      <td>1</td>\n",
       "      <td>0</td>\n",
       "      <td>0</td>\n",
       "      <td>0</td>\n",
       "      <td>0</td>\n",
       "      <td>0</td>\n",
       "      <td>0</td>\n",
       "      <td>0</td>\n",
       "      <td>1</td>\n",
       "      <td>0</td>\n",
       "    </tr>\n",
       "  </tbody>\n",
       "</table>\n",
       "<p>5 rows × 180 columns</p>\n",
       "</div>"
      ],
      "text/plain": [
       "   Rating  num_comp  hourly  employer_provided  same_state  age  python_yn  \\\n",
       "0     3.8         0       0                  0           0   47          1   \n",
       "1     3.4         0       0                  0           0   36          1   \n",
       "2     4.8         0       0                  0           1   10          1   \n",
       "3     3.8         3       0                  0           1   55          1   \n",
       "4     2.9         3       0                  0           1   22          1   \n",
       "\n",
       "   excel_yn  spark_yn  ml_yn  ...  job_simp_data scientist  job_simp_director  \\\n",
       "0         1         0      1  ...                        1                  0   \n",
       "1         0         0      1  ...                        1                  0   \n",
       "2         1         1      1  ...                        1                  0   \n",
       "3         0         0      1  ...                        1                  0   \n",
       "4         1         0      1  ...                        1                  0   \n",
       "\n",
       "   job_simp_manager  job_simp_mle  job_simp_na  job_simp_vp  seniority_junior  \\\n",
       "0                 0             0            0            0                 0   \n",
       "1                 0             0            0            0                 0   \n",
       "2                 0             0            0            0                 0   \n",
       "3                 0             0            0            0                 0   \n",
       "4                 0             0            0            0                 0   \n",
       "\n",
       "   seniority_lead  seniority_na  seniority_senior  \n",
       "0               0             1                 0  \n",
       "1               0             1                 0  \n",
       "2               0             1                 0  \n",
       "3               0             1                 0  \n",
       "4               0             1                 0  \n",
       "\n",
       "[5 rows x 180 columns]"
      ]
     },
     "execution_count": 36,
     "metadata": {},
     "output_type": "execute_result"
    }
   ],
   "source": [
    "df_dum.drop('avg_salary',axis=1).head()"
   ]
  },
  {
   "cell_type": "code",
   "execution_count": 38,
   "id": "c4424546",
   "metadata": {
    "scrolled": true
   },
   "outputs": [
    {
     "data": {
      "text/plain": [
       "array([ 72. ,  87.5,  85. ,  76.5, 114.5,  95. ,  73.5, 114. ,  61. ,\n",
       "       140. , 163.5,  85. , 139. ,  65.5, 113.5, 146. , 102. , 153.5,\n",
       "       142.5,  87.5, 105.5,  96. , 112.5,  84. , 143. ,  86.5,  99.5,\n",
       "        47.5,  84. ,  85. ,  76.5,  96. , 114.5, 121. , 112.5, 106. ,\n",
       "       107. , 110. , 147.5, 106. ,  88. ,  98.5, 142.5,  82.5, 130. ,\n",
       "       155. , 184.5,  29.5,  86.5,  81. ,  91. , 114.5,  68. , 115. ,\n",
       "       109.5,  75.5, 154.5, 143.5,  73.5,  95. , 107. , 115. , 139.5,\n",
       "        67. ,  85. , 118. ,  79.5,  56.5, 128.5,  97.5,  66.5, 179.5,\n",
       "        76. , 112. ,  98. , 128. , 150.5,  87.5, 110. , 113.5, 124. ,\n",
       "        56.5, 130. ,  77.5,  87. ,  53.5, 139. , 114. ,  85.5,  48. ,\n",
       "        48. , 174. ,  85. , 106.5,  72.5,  85.5,  97.5,  99. ,  56.5,\n",
       "       133. , 121. ,  85.5,  87.5, 237.5,  95.5, 104.5,  56.5,  55. ,\n",
       "        61.5, 157. ,  78. , 113.5, 140. , 132.5, 108. ,  80.5, 107.5,\n",
       "        95. , 119.5, 134. , 100.5, 107.5, 122. ,  92.5,  62. ,  39.5,\n",
       "       107.5,  40.5,  89.5,  81. , 147. ,  85. ,  81.5, 168. , 100.5,\n",
       "        97. ,  85. , 153.5, 132.5, 100. , 105. ,  87. , 103.5, 124. ,\n",
       "        67. ,  87. , 137.5, 100. , 106.5,  98.5,  61. , 106.5,  84.5,\n",
       "       109.5, 164. , 169. , 142. ,  76.5, 107. , 171.5,  96. , 142.5,\n",
       "       107. , 145. ,  61.5,  41. , 120. ,  62. , 150.5,  87.5,  71.5,\n",
       "        51.5, 151.5,  77.5, 140. ,  98.5, 225. ,  55. , 161.5, 147. ,\n",
       "        61. , 120. , 124.5, 148. ,  59. , 146.5,  91.5, 133. , 140.5,\n",
       "        70.5,  84.5,  93.5, 134.5, 181. ,  84.5, 205. ,  48.5,  43. ,\n",
       "        52.5, 124. ,  64. ,  98. ,  55. ,  54. ,  81. , 107.5, 112.5,\n",
       "        89. , 100.5,  65. ,  40. ,  72.5,  61. , 109.5,  84.5,  87.5,\n",
       "        92.5,  81.5,  79. , 164. , 169. , 142. ,  47.5,  76.5,  69. ,\n",
       "        49. , 171.5, 107. ,  59. ,  88.5, 107. ,  86.5,  84. , 114.5,\n",
       "       145. ,  88. , 100. ,  61.5,  96.5,  76. ,  15.5,  83.5, 120. ,\n",
       "       163. , 100. ,  52.5,  41. ,  50. ,  93. ,  94.5, 150.5, 102. ,\n",
       "        62. ,  87.5,  84. , 143. , 155. ,  71.5, 108. , 151.5,  51.5,\n",
       "       140. ,  77.5,  63.5, 109. ,  96. , 225. , 101. ,  98.5,  77.5,\n",
       "       161.5,  55. , 147. ,  90. ,  58. ,  61. , 120. , 128. ,  99.5,\n",
       "        96. , 101. , 148. , 142. , 169. , 124.5,  59. ,  52.5,  75.5,\n",
       "       139. , 102.5,  60.5, 146.5, 125. ,  81. , 133. ,  77. ,  92. ,\n",
       "       121. , 162.5,  60. ,  87.5,  90.5, 114.5, 121. , 110. ,  91.5,\n",
       "        70.5,  70.5,  76.5,  92. , 140.5,  82. ,  84.5, 134.5, 164.5,\n",
       "        44. ,  93.5, 109. , 149.5,  65.5, 124.5, 114. ,  49. ,  84.5,\n",
       "        71. , 101. , 107. , 112.5, 181. ,  61. , 205. , 103.5,  63. ,\n",
       "        62.5,  94.5,  48.5, 154.5,  43. ,  87. ,  52.5,  64.5, 111.5,\n",
       "       154.5, 124. , 128.5,  63. ,  64. ,  98. , 142.5, 137. ,  99. ,\n",
       "        54. , 139.5, 109. , 254. ,  73. ,  81. ,  55. ,  99.5,  45.5,\n",
       "       122.5, 140. ,  77.5,  53. , 117.5,  70.5,  61.5,  70. ,  80. ,\n",
       "        90. , 120. ,  73.5,  91. , 155. , 129.5, 167.5,  60. , 180. ,\n",
       "        65. , 112.5,  87.5,  51.5,  51. ,  62.5, 100. ,  85. , 122. ,\n",
       "        66.5,  70.5, 138.5, 107.5, 120.5,  81. , 103.5, 107.5, 162. ,\n",
       "        68.5, 110.5,  81. , 130. , 115.5,  80.5,  43. , 140. , 120. ,\n",
       "        66.5,  94.5, 119. ,  50. ,  27. , 194.5,  71.5, 105.5,  74. ,\n",
       "        62.5,  65.5, 161.5,  72.5, 139. , 136.5,  74.5,  80.5,  75.5,\n",
       "       143.5, 101. ,  92. ,  76.5, 140.5, 116.5, 232.5, 120.5,  82. ,\n",
       "        84.5, 153. , 127. ,  85.5,  76.5, 128. ,  91.5, 134.5, 164.5,\n",
       "        93.5,  44. , 149.5,  65.5, 109. , 177. , 107. , 154.5, 113.5,\n",
       "       124.5, 143.5, 113.5, 101.5,  73. ,  80.5, 110.5, 114. , 139.5,\n",
       "       145.5,  87. , 100.5, 147. , 110.5,  49. ,  94. , 123.5,  84.5,\n",
       "        71. ,  73. , 101. , 181. , 109.5, 184.5, 165. ,  61. , 205. ,\n",
       "        59.5, 103.5,  62.5,  63. ,  66. ,  94.5,  75.5,  87. , 140. ,\n",
       "        86. , 116.5, 154.5,  87. ,  48.5,  80. ,  43. ,  52.5, 173. ,\n",
       "        68.5, 172. , 114.5,  95. ,  69.5,  64.5, 111.5,  97.5, 154.5,\n",
       "       124. ,  95. , 128.5, 194. , 104.5,  63. ,  85.5,  50. , 113. ,\n",
       "        90.5, 153. , 123.5,  47. ,  64. , 162. , 137. ,  98. , 115. ,\n",
       "       133.5,  99. ,  54. , 109. , 109. , 139.5, 254. , 125. , 106.5,\n",
       "        73. ,  81. ,  55. ,  99.5,  45.5,  54. , 122.5,  37.5,  53.5,\n",
       "       140. ,  77.5,  53. , 117.5,  70.5,  70. ,  61.5,  80. ,  79.5,\n",
       "       168. ,  90. , 120. , 138.5, 111.5,  68.5,  84.5, 102.5,  73.5,\n",
       "        93.5, 127.5,  72. , 129.5,  47. ,  65. ,  60. , 167.5,  65. ,\n",
       "        94. ,  87.5,  97. , 112.5,  91.5,  51.5, 114.5, 115. ,  74. ,\n",
       "        51. , 100. , 121. , 121.5,  62.5, 117.5, 122. ,  85. ,  60.5,\n",
       "       180. ,  70.5, 118.5,  66.5, 107.5, 138.5,  81. ,  58.5, 107.5,\n",
       "       120.5,  63.5, 103.5, 107. , 105.5,  83. , 162. ,  68.5, 110.5,\n",
       "       115.5,  87.5,  80.5,  43. , 140. , 172. , 120. ,  66.5, 100. ,\n",
       "        94.5, 221.5, 119. ,  95.5, 194.5,  50. ,  27. , 173. , 105.5,\n",
       "        71.5,  74. ,  62.5,  65.5,  85. , 147.5, 161.5,  81. ,  72.5,\n",
       "       139. , 136.5,  83. , 121. ,  74.5,  85.5,  80.5, 167.5, 107.5,\n",
       "        44.5, 107.5, 132.5,  69.5,  98.5,  80.5,  74. ,  99. ,  96.5,\n",
       "        53. , 103. , 139.5,  67. ,  62.5,  92. ,  66. ,  94.5, 114. ,\n",
       "        75.5,  96. ,  87. ,  86. , 116.5, 154.5,  48.5,  87. ,  80. ,\n",
       "        43. , 173. ,  52.5,  68.5,  95. ,  69.5, 107. , 112. ,  96.5,\n",
       "       111.5, 154.5,  95. ,  97.5, 128.5, 124. , 194. ,  63. ,  50. ,\n",
       "       104.5,  69.5, 121. ,  85.5, 113. , 103. ,  90.5, 153. , 106.5,\n",
       "       130. , 123.5,  86.5,  64. ,  47. , 162. , 140. ,  89. ,  98. ,\n",
       "       137. ,  99. ,  54. , 109. , 109. , 139.5, 254. , 125. , 106.5,\n",
       "        55. ,  73. ,  81. , 128.5,  99.5,  92. ,  45.5, 122.5,  37.5,\n",
       "        54. ,  53.5, 140. ,  77.5,  53. , 117.5,  70.5,  61.5,  80. ,\n",
       "        70. , 120. ,  90. , 111. , 138.5,  68.5,  87.5, 111.5,  84.5,\n",
       "       102.5,  73.5, 127.5,  93.5])"
      ]
     },
     "execution_count": 38,
     "metadata": {},
     "output_type": "execute_result"
    }
   ],
   "source": [
    "# df_dum['avg_salary']      #series\n",
    "df_dum['avg_salary'].values  #array"
   ]
  },
  {
   "cell_type": "code",
   "execution_count": 80,
   "id": "26f6c49d",
   "metadata": {},
   "outputs": [],
   "source": [
    "X=df_dum.drop('avg_salary',axis=1)   #independent variables\n",
    "y=df_dum['avg_salary'].values      #dependent variables\n"
   ]
  },
  {
   "cell_type": "markdown",
   "id": "55578045",
   "metadata": {},
   "source": [
    "### Multiple linear regression\n"
   ]
  },
  {
   "cell_type": "markdown",
   "id": "0990f93e",
   "metadata": {},
   "source": [
    "#### using Statsmodel\n",
    "\n",
    "Link: https://www.statsmodels.org/stable/generated/statsmodels.regression.linear_model.OLS.html\n",
    "\n",
    "Linear models with independently and identically distributed errors, and for errors with heteroscedasticity or autocorrelation. This module allows estimation by **ordinary least squares** (OLS), weighted least squares (WLS), generalized least squares (GLS), and feasible generalized least squares with autocorrelated AR(p) errors."
   ]
  },
  {
   "cell_type": "code",
   "execution_count": 90,
   "id": "621dda58",
   "metadata": {},
   "outputs": [],
   "source": [
    "import statsmodels.api as sm\n",
    "\n",
    "X_sm= X = sm.add_constant(X)\n",
    "\n",
    "mod = sm.OLS(y, X_sm )   #sm.OLS(dependent, independent)\n",
    "results = mod.fit()\n",
    "\n"
   ]
  },
  {
   "cell_type": "code",
   "execution_count": 91,
   "id": "6b982509",
   "metadata": {},
   "outputs": [
    {
     "data": {
      "text/plain": [
       "const                47.156520\n",
       "Rating                4.641330\n",
       "num_comp              1.356405\n",
       "hourly              -24.326381\n",
       "employer_provided    34.918996\n",
       "                       ...    \n",
       "job_simp_vp          70.203218\n",
       "seniority_junior    -12.952994\n",
       "seniority_lead       37.182203\n",
       "seniority_na          0.020848\n",
       "seniority_senior     22.906464\n",
       "Length: 181, dtype: float64"
      ]
     },
     "execution_count": 91,
     "metadata": {},
     "output_type": "execute_result"
    }
   ],
   "source": [
    "results.params"
   ]
  },
  {
   "cell_type": "code",
   "execution_count": 92,
   "id": "a9e1d084",
   "metadata": {},
   "outputs": [
    {
     "data": {
      "text/plain": [
       "const                7.677045\n",
       "Rating               2.438052\n",
       "num_comp             1.575536\n",
       "hourly              -2.707131\n",
       "employer_provided    3.082495\n",
       "                       ...   \n",
       "job_simp_vp          3.494377\n",
       "seniority_junior    -2.817946\n",
       "seniority_lead       7.695468\n",
       "seniority_na         0.008847\n",
       "seniority_senior     8.404310\n",
       "Length: 181, dtype: float64"
      ]
     },
     "execution_count": 92,
     "metadata": {},
     "output_type": "execute_result"
    }
   ],
   "source": [
    "results.tvalues\n",
    "# results.pvalues"
   ]
  },
  {
   "cell_type": "code",
   "execution_count": 93,
   "id": "c4a16223",
   "metadata": {},
   "outputs": [
    {
     "name": "stdout",
     "output_type": "stream",
     "text": [
      "                            OLS Regression Results                            \n",
      "==============================================================================\n",
      "Dep. Variable:                      y   R-squared:                       0.699\n",
      "Model:                            OLS   Adj. R-squared:                  0.626\n",
      "Method:                 Least Squares   F-statistic:                     9.541\n",
      "Date:                Sat, 24 Jun 2023   Prob (F-statistic):           1.35e-89\n",
      "Time:                        16:37:30   Log-Likelihood:                -3297.2\n",
      "No. Observations:                 742   AIC:                             6886.\n",
      "Df Residuals:                     596   BIC:                             7559.\n",
      "Df Model:                         145                                         \n",
      "Covariance Type:            nonrobust                                         \n",
      "=====================================================================================================================\n",
      "                                                        coef    std err          t      P>|t|      [0.025      0.975]\n",
      "---------------------------------------------------------------------------------------------------------------------\n",
      "const                                                47.1565      6.143      7.677      0.000      35.093      59.220\n",
      "Rating                                                4.6413      1.904      2.438      0.015       0.903       8.380\n",
      "num_comp                                              1.3564      0.861      1.576      0.116      -0.334       3.047\n",
      "hourly                                              -24.3264      8.986     -2.707      0.007     -41.975      -6.678\n",
      "employer_provided                                    34.9190     11.328      3.082      0.002      12.671      57.167\n",
      "same_state                                            2.4452      2.588      0.945      0.345      -2.638       7.528\n",
      "age                                                   0.0174      0.030      0.586      0.558      -0.041       0.076\n",
      "python_yn                                             7.6024      2.599      2.925      0.004       2.499      12.706\n",
      "excel_yn                                             -0.6407      2.258     -0.284      0.777      -5.074       3.793\n",
      "spark_yn                                             -2.2836      2.900     -0.788      0.431      -7.978       3.411\n",
      "ml_yn                                                 5.1597      2.791      1.849      0.065      -0.321      10.641\n",
      "sql_yn                                               -5.8929      2.525     -2.333      0.020     -10.853      -0.933\n",
      "desc_len                                             -0.0005      0.001     -0.632      0.528      -0.002       0.001\n",
      "Size_-1                                              13.2630      8.510      1.559      0.120      -3.449      29.975\n",
      "Size_1 to 50 employees                               -0.5882      6.352     -0.093      0.926     -13.063      11.886\n",
      "Size_10000+ employees                                 0.0469      5.750      0.008      0.993     -11.245      11.339\n",
      "Size_1001 to 5000 employees                           7.4769      3.836      1.949      0.052      -0.058      15.012\n",
      "Size_201 to 500 employees                             1.3153      3.807      0.346      0.730      -6.161       8.792\n",
      "Size_5001 to 10000 employees                         -2.3754      5.358     -0.443      0.658     -12.899       8.148\n",
      "Size_501 to 1000 employees                            6.2352      4.007      1.556      0.120      -1.634      14.105\n",
      "Size_51 to 200 employees                              3.7780      4.328      0.873      0.383      -4.723      12.278\n",
      "Size_Unknown                                         18.0049     13.851      1.300      0.194      -9.198      45.208\n",
      "Type of ownership_-1                                 13.2630      8.510      1.559      0.120      -3.449      29.975\n",
      "Type of ownership_College / University               -5.1417     17.496     -0.294      0.769     -39.502      29.219\n",
      "Type of ownership_Company - Private                   9.6846      5.183      1.869      0.062      -0.494      19.863\n",
      "Type of ownership_Company - Public                   14.0528      5.650      2.487      0.013       2.956      25.150\n",
      "Type of ownership_Government                         -0.1775     15.261     -0.012      0.991     -30.148      29.793\n",
      "Type of ownership_Hospital                            5.0686      9.814      0.516      0.606     -14.205      24.342\n",
      "Type of ownership_Nonprofit Organization             -6.7289      6.644     -1.013      0.312     -19.777       6.319\n",
      "Type of ownership_Other Organization                 -8.7801     14.048     -0.625      0.532     -36.369      18.809\n",
      "Type of ownership_School / School District          -14.7119     23.273     -0.632      0.528     -60.420      30.996\n",
      "Type of ownership_Subsidiary or Business Segment     16.8308      6.830      2.464      0.014       3.417      30.245\n",
      "Type of ownership_Unknown                            23.7967     28.582      0.833      0.405     -32.337      79.931\n",
      "Industry_-1                                           6.6735      7.862      0.849      0.396      -8.768      22.115\n",
      "Industry_Accounting                                   2.2878     13.294      0.172      0.863     -23.822      28.397\n",
      "Industry_Advertising & Marketing                     13.0513      5.852      2.230      0.026       1.559      24.544\n",
      "Industry_Aerospace & Defense                          6.1956      3.074      2.015      0.044       0.158      12.234\n",
      "Industry_Architectural & Engineering Services       -20.6557     16.315     -1.266      0.206     -52.698      11.387\n",
      "Industry_Auctions & Galleries                         9.9694     22.540      0.442      0.658     -34.298      54.237\n",
      "Industry_Banks & Credit Unions                      -11.7010      7.913     -1.479      0.140     -27.241       3.839\n",
      "Industry_Beauty & Personal Accessories Stores        11.9817     21.247      0.564      0.573     -29.747      53.710\n",
      "Industry_Biotech & Pharmaceuticals                    7.6883      2.084      3.689      0.000       3.595      11.782\n",
      "Industry_Brokerage Services                          32.7340     15.283      2.142      0.033       2.720      62.748\n",
      "Industry_Colleges & Universities                     13.6110     12.673      1.074      0.283     -11.278      38.500\n",
      "Industry_Computer Hardware & Software                -1.0475      3.248     -0.323      0.747      -7.426       5.331\n",
      "Industry_Construction                                -9.5082     10.441     -0.911      0.363     -30.014      10.998\n",
      "Industry_Consulting                                  15.2193      5.935      2.564      0.011       3.564      26.875\n",
      "Industry_Consumer Product Rental                     -0.8790     12.804     -0.069      0.945     -26.025      24.267\n",
      "Industry_Consumer Products Manufacturing             14.7597      9.695      1.522      0.128      -4.280      33.800\n",
      "Industry_Department, Clothing, & Shoe Stores          2.4626     11.446      0.215      0.830     -20.017      24.942\n",
      "Industry_Education Training Services                -24.6558     12.352     -1.996      0.046     -48.915      -0.397\n",
      "Industry_Energy                                      -9.1297      7.613     -1.199      0.231     -24.081       5.821\n",
      "Industry_Enterprise Software & Network Solutions      9.2937      3.549      2.619      0.009       2.323      16.264\n",
      "Industry_Farm Support Services                       -1.7970     12.487     -0.144      0.886     -26.321      22.727\n",
      "Industry_Federal Agencies                             9.5133      5.138      1.852      0.065      -0.577      19.604\n",
      "Industry_Financial Analytics & Research               1.1393      9.139      0.125      0.901     -16.810      19.088\n",
      "Industry_Financial Transaction Processing           -16.2278     12.728     -1.275      0.203     -41.224       8.769\n",
      "Industry_Food & Beverage Manufacturing               -7.0729     11.402     -0.620      0.535     -29.466      15.320\n",
      "Industry_Gambling                                    -9.4168      6.443     -1.462      0.144     -22.070       3.236\n",
      "Industry_Gas Stations                               -14.3056     15.357     -0.932      0.352     -44.466      15.855\n",
      "Industry_Health Care Products Manufacturing          18.2997     21.728      0.842      0.400     -24.373      60.972\n",
      "Industry_Health Care Services & Hospitals             7.5267      2.876      2.617      0.009       1.878      13.175\n",
      "Industry_Health, Beauty, & Fitness                   -6.4664     17.149     -0.377      0.706     -40.145      27.213\n",
      "Industry_IT Services                                  3.8468      3.542      1.086      0.278      -3.110      10.803\n",
      "Industry_Industrial Manufacturing                   -16.6961     12.642     -1.321      0.187     -41.524       8.132\n",
      "Industry_Insurance Agencies & Brokerages             -3.2336      6.890     -0.469      0.639     -16.764      10.297\n",
      "Industry_Insurance Carriers                           6.9237      4.446      1.557      0.120      -1.808      15.655\n",
      "Industry_Internet                                    -1.0049      4.526     -0.222      0.824      -9.894       7.884\n",
      "Industry_Investment Banking & Asset Management       37.1487     11.949      3.109      0.002      13.682      60.615\n",
      "Industry_K-12 Education                              11.5088     14.418      0.798      0.425     -16.808      39.826\n",
      "Industry_Lending                                    -19.6425     10.707     -1.835      0.067     -40.671       1.386\n",
      "Industry_Logistics & Supply Chain                     0.4267     13.143      0.032      0.974     -25.385      26.239\n",
      "Industry_Metals Brokers                              -0.7694     15.442     -0.050      0.960     -31.097      29.558\n",
      "Industry_Mining                                     -10.7562     17.723     -0.607      0.544     -45.563      24.051\n",
      "Industry_Motion Picture Production & Distribution    36.8826     19.344      1.907      0.057      -1.108      74.873\n",
      "Industry_Other Retail Stores                         32.2034     21.389      1.506      0.133      -9.804      74.210\n",
      "Industry_Real Estate                                 -0.1416      4.893     -0.029      0.977      -9.751       9.467\n",
      "Industry_Religious Organizations                     11.4829     13.514      0.850      0.396     -15.058      38.024\n",
      "Industry_Research & Development                      -2.4138      6.472     -0.373      0.709     -15.124      10.296\n",
      "Industry_Security Services                           14.5688      9.575      1.522      0.129      -4.236      33.373\n",
      "Industry_Social Assistance                           -4.5823     11.633     -0.394      0.694     -27.430      18.265\n",
      "Industry_Sporting Goods Stores                      -37.5227     17.526     -2.141      0.033     -71.942      -3.103\n",
      "Industry_Staffing & Outsourcing                     -16.5508     10.852     -1.525      0.128     -37.863       4.762\n",
      "Industry_Stock Exchanges                            -11.9644      7.821     -1.530      0.127     -27.325       3.396\n",
      "Industry_TV Broadcast & Cable Networks                5.2378     15.347      0.341      0.733     -24.903      35.378\n",
      "Industry_Telecommunications Manufacturing             6.0199     13.472      0.447      0.655     -20.438      32.478\n",
      "Industry_Telecommunications Services                 -1.5508     11.073     -0.140      0.889     -23.298      20.196\n",
      "Industry_Transportation Equipment Manufacturing     -12.0735     23.321     -0.518      0.605     -57.875      33.728\n",
      "Industry_Transportation Management                  -17.3562     13.790     -1.259      0.209     -44.439       9.727\n",
      "Industry_Travel Agencies                             -5.4615      5.179     -1.055      0.292     -15.632       4.709\n",
      "Industry_Trucking                                    23.0278     19.660      1.171      0.242     -15.584      61.639\n",
      "Industry_Video Games                                -24.3328     14.178     -1.716      0.087     -52.177       3.511\n",
      "Industry_Wholesale                                   -5.6118     12.897     -0.435      0.664     -30.942      19.718\n",
      "Sector_-1                                             6.6735      7.862      0.849      0.396      -8.768      22.115\n",
      "Sector_Accounting & Legal                             2.2878     13.294      0.172      0.863     -23.822      28.397\n",
      "Sector_Aerospace & Defense                            6.1956      3.074      2.015      0.044       0.158      12.234\n",
      "Sector_Agriculture & Forestry                        -1.7970     12.487     -0.144      0.886     -26.321      22.727\n",
      "Sector_Arts, Entertainment & Recreation              -9.4168      6.443     -1.462      0.144     -22.070       3.236\n",
      "Sector_Biotech & Pharmaceuticals                      7.6883      2.084      3.689      0.000       3.595      11.782\n",
      "Sector_Business Services                             -2.3928      4.189     -0.571      0.568     -10.619       5.833\n",
      "Sector_Construction, Repair & Maintenance            -9.5082     10.441     -0.911      0.363     -30.014      10.998\n",
      "Sector_Consumer Services                             -7.3454      9.310     -0.789      0.430     -25.630      10.939\n",
      "Sector_Education                                      0.4639      6.705      0.069      0.945     -12.704      13.632\n",
      "Sector_Finance                                       11.4864      4.473      2.568      0.010       2.702      20.271\n",
      "Sector_Government                                     9.5133      5.138      1.852      0.065      -0.577      19.604\n",
      "Sector_Health Care                                    7.5267      2.876      2.617      0.009       1.878      13.175\n",
      "Sector_Information Technology                        11.0881      2.735      4.054      0.000       5.716      16.460\n",
      "Sector_Insurance                                      3.6902      3.869      0.954      0.341      -3.909      11.289\n",
      "Sector_Manufacturing                                 -2.7830      6.775     -0.411      0.681     -16.088      10.522\n",
      "Sector_Media                                         17.7876      8.625      2.062      0.040       0.848      34.728\n",
      "Sector_Mining & Metals                              -11.5256     10.533     -1.094      0.274     -32.213       9.162\n",
      "Sector_Non-Profit                                     6.9006      8.759      0.788      0.431     -10.301      24.103\n",
      "Sector_Oil, Gas, Energy & Utilities                  -9.1297      7.613     -1.199      0.231     -24.081       5.821\n",
      "Sector_Real Estate                                   -0.1416      4.893     -0.029      0.977      -9.751       9.467\n",
      "Sector_Retail                                         4.7888      7.056      0.679      0.498      -9.068      18.646\n",
      "Sector_Telecommunications                             4.4691      7.713      0.579      0.563     -10.678      19.616\n",
      "Sector_Transportation & Logistics                     6.0983      7.978      0.764      0.445      -9.571      21.767\n",
      "Sector_Travel & Tourism                              -5.4615      5.179     -1.055      0.292     -15.632       4.709\n",
      "Revenue_$1 to $2 billion (USD)                        4.3584      4.712      0.925      0.355      -4.896      13.613\n",
      "Revenue_$1 to $5 million (USD)                       -5.0483     10.872     -0.464      0.643     -26.401      16.305\n",
      "Revenue_$10 to $25 million (USD)                     -6.8176      5.162     -1.321      0.187     -16.956       3.321\n",
      "Revenue_$10+ billion (USD)                           10.3454      6.324      1.636      0.102      -2.074      22.765\n",
      "Revenue_$100 to $500 million (USD)                   -4.4842      3.976     -1.128      0.260     -12.292       3.324\n",
      "Revenue_$2 to $5 billion (USD)                        2.0418      6.114      0.334      0.739      -9.967      14.050\n",
      "Revenue_$25 to $50 million (USD)                     -6.4870      5.268     -1.231      0.219     -16.833       3.859\n",
      "Revenue_$5 to $10 billion (USD)                       6.5461      7.809      0.838      0.402      -8.790      21.882\n",
      "Revenue_$5 to $10 million (USD)                      38.9037      8.213      4.737      0.000      22.774      55.034\n",
      "Revenue_$50 to $100 million (USD)                     1.5078      4.927      0.306      0.760      -8.168      11.184\n",
      "Revenue_$500 million to $1 billion (USD)             -4.7149      5.279     -0.893      0.372     -15.084       5.654\n",
      "Revenue_-1                                           13.2630      8.510      1.559      0.120      -3.449      29.975\n",
      "Revenue_Less than $1 million (USD)                   -1.1976     15.043     -0.080      0.937     -30.741      28.345\n",
      "Revenue_Unknown / Non-Applicable                     -1.0600      3.018     -0.351      0.726      -6.988       4.868\n",
      "state_ AL                                            -9.0318     10.351     -0.873      0.383     -29.361      11.297\n",
      "state_ AZ                                           -25.9788      9.281     -2.799      0.005     -44.206      -7.752\n",
      "state_ CA                                            27.4695      3.125      8.790      0.000      21.332      33.607\n",
      "state_ CO                                             9.2914      8.222      1.130      0.259      -6.857      25.440\n",
      "state_ CT                                           -25.8009     11.278     -2.288      0.023     -47.950      -3.652\n",
      "state_ DC                                            15.9070      7.958      1.999      0.046       0.277      31.537\n",
      "state_ DE                                            17.4209     13.628      1.278      0.202      -9.343      44.185\n",
      "state_ FL                                           -17.1712      7.494     -2.291      0.022     -31.888      -2.454\n",
      "state_ GA                                           -17.7433      9.949     -1.783      0.075     -37.284       1.797\n",
      "state_ IA                                             6.2400     12.512      0.499      0.618     -18.333      30.813\n",
      "state_ ID                                           -20.9642     18.012     -1.164      0.245     -56.338      14.410\n",
      "state_ IL                                            11.4237      4.974      2.297      0.022       1.656      21.192\n",
      "state_ IN                                            -9.1373      8.674     -1.053      0.293     -26.172       7.898\n",
      "state_ KS                                           -11.9644      7.821     -1.530      0.127     -27.325       3.396\n",
      "state_ KY                                            22.7487     12.190      1.866      0.062      -1.191      46.688\n",
      "state_ LA                                            -7.6438     12.918     -0.592      0.554     -33.015      17.727\n",
      "state_ MA                                             3.4689      3.830      0.906      0.365      -4.053      10.991\n",
      "state_ MD                                             2.8551      4.877      0.585      0.558      -6.722      12.433\n",
      "state_ MI                                             7.4659     12.125      0.616      0.538     -16.348      31.280\n",
      "state_ MN                                            12.0953     17.031      0.710      0.478     -21.353      45.543\n",
      "state_ MO                                            18.8576      9.883      1.908      0.057      -0.552      38.267\n",
      "state_ NC                                            -0.7912      6.707     -0.118      0.906     -13.963      12.380\n",
      "state_ NE                                            -2.4767     13.240     -0.187      0.852     -28.480      23.527\n",
      "state_ NJ                                             3.7704      6.714      0.562      0.575      -9.416      16.957\n",
      "state_ NM                                           -36.7750     14.268     -2.577      0.010     -64.797      -8.753\n",
      "state_ NY                                             9.7697      4.009      2.437      0.015       1.896      17.643\n",
      "state_ OH                                            -1.3879      8.173     -0.170      0.865     -17.439      14.663\n",
      "state_ OR                                             5.0071     12.483      0.401      0.688     -19.509      29.523\n",
      "state_ PA                                            15.0924      7.032      2.146      0.032       1.281      28.903\n",
      "state_ RI                                            24.8243     24.713      1.004      0.316     -23.712      73.360\n",
      "state_ SC                                            -1.9147     29.298     -0.065      0.948     -59.455      55.625\n",
      "state_ TN                                            -3.9070      9.199     -0.425      0.671     -21.974      14.160\n",
      "state_ TX                                            -0.3512      5.582     -0.063      0.950     -11.314      10.612\n",
      "state_ UT                                            19.6538     14.634      1.343      0.180      -9.088      48.395\n",
      "state_ VA                                             1.1199      4.952      0.226      0.821      -8.605      10.844\n",
      "state_ WA                                            10.3971      8.078      1.287      0.199      -5.467      26.261\n",
      "state_ WI                                            -4.6829      9.936     -0.471      0.638     -24.197      14.831\n",
      "job_simp_data analyst                               -31.0103      4.329     -7.163      0.000     -39.512     -22.508\n",
      "job_simp_data engineer                               -0.9163      4.009     -0.229      0.819      -8.790       6.957\n",
      "job_simp_data scientist                               3.7364      3.632      1.029      0.304      -3.397      10.870\n",
      "job_simp_director                                    24.6584      8.569      2.877      0.004       7.829      41.488\n",
      "job_simp_manager                                    -19.0931      6.316     -3.023      0.003     -31.498      -6.688\n",
      "job_simp_mle                                         13.8434      6.701      2.066      0.039       0.684      27.003\n",
      "job_simp_na                                         -14.2653      4.012     -3.556      0.000     -22.144      -6.386\n",
      "job_simp_vp                                          70.2032     20.090      3.494      0.001      30.747     109.660\n",
      "seniority_junior                                    -12.9530      4.597     -2.818      0.005     -21.981      -3.925\n",
      "seniority_lead                                       37.1822      4.832      7.695      0.000      27.693      46.671\n",
      "seniority_na                                          0.0208      2.356      0.009      0.993      -4.607       4.649\n",
      "seniority_senior                                     22.9065      2.726      8.404      0.000      17.554      28.259\n",
      "==============================================================================\n",
      "Omnibus:                       71.972   Durbin-Watson:                   2.074\n",
      "Prob(Omnibus):                  0.000   Jarque-Bera (JB):              411.721\n",
      "Skew:                           0.167   Prob(JB):                     3.94e-90\n",
      "Kurtosis:                       6.634   Cond. No.                     2.03e+19\n",
      "==============================================================================\n",
      "\n",
      "Notes:\n",
      "[1] Standard Errors assume that the covariance matrix of the errors is correctly specified.\n",
      "[2] The smallest eigenvalue is 3.17e-29. This might indicate that there are\n",
      "strong multicollinearity problems or that the design matrix is singular.\n"
     ]
    }
   ],
   "source": [
    "print(results.summary())"
   ]
  },
  {
   "cell_type": "markdown",
   "id": "7942a271",
   "metadata": {},
   "source": [
    "**Significant (pvalue < 0.10 (10%))**\n",
    "- Rating\n",
    "- hourly\n",
    "- employer_provided\n",
    "- python_yn\n",
    "- job_simp\n",
    "- Industry\n",
    "- Sector\n",
    "- state\n",
    "- sql_yn\n",
    "- ml_yn\n",
    "- Type of ownership\n",
    "- Size\n"
   ]
  },
  {
   "cell_type": "markdown",
   "id": "91d73afc",
   "metadata": {},
   "source": [
    "#### Using Scikit Learn\n",
    "\n",
    "Link: https://scikit-learn.org/stable/modules/generated/sklearn.model_selection.train_test_split.html"
   ]
  },
  {
   "cell_type": "code",
   "execution_count": 133,
   "id": "dd74465f",
   "metadata": {},
   "outputs": [
    {
     "data": {
      "text/plain": [
       "LinearRegression()"
      ]
     },
     "execution_count": 133,
     "metadata": {},
     "output_type": "execute_result"
    }
   ],
   "source": [
    "from sklearn.model_selection import train_test_split\n",
    "from sklearn.linear_model import LinearRegression,Lasso\n",
    "from sklearn.model_selection import cross_val_score\n",
    "\n",
    "X_train, X_test, y_train, y_test = train_test_split(X, y, test_size=0.2, random_state=42)\n",
    "\n",
    "lm=LinearRegression()\n",
    "lm.fit(X_train, y_train)"
   ]
  },
  {
   "cell_type": "code",
   "execution_count": 97,
   "id": "74303bdb",
   "metadata": {
    "scrolled": true
   },
   "outputs": [
    {
     "name": "stdout",
     "output_type": "stream",
     "text": [
      "[-20.90167584 -19.83153229 -20.61868405]\n",
      "-20.450630724804626\n"
     ]
    }
   ],
   "source": [
    "print(cross_val_score(lm, X_train, y_train,scoring='neg_mean_absolute_error',cv=3 ))\n",
    "print(np.mean(cross_val_score(lm, X_train, y_train,scoring='neg_mean_absolute_error',cv=3 )))"
   ]
  },
  {
   "cell_type": "code",
   "execution_count": 56,
   "id": "d8efb99b",
   "metadata": {
    "scrolled": true
   },
   "outputs": [
    {
     "data": {
      "text/plain": [
       "Index(['Job Title', 'Salary Estimate', 'Job Description', 'Rating',\n",
       "       'Company Name', 'Location', 'Headquarters', 'Size', 'Founded',\n",
       "       'Type of ownership', 'Industry', 'Sector', 'Revenue', 'Competitors',\n",
       "       'hourly', 'employer_provided', 'min_salary', 'max_salary', 'avg_salary',\n",
       "       'company_txt', 'state', 'same_state', 'age', 'python_yn', 'excel_yn',\n",
       "       'spark_yn', 'ml_yn', 'sql_yn', 'job_simp', 'seniority', 'desc_len',\n",
       "       'num_comp'],\n",
       "      dtype='object')"
      ]
     },
     "execution_count": 56,
     "metadata": {},
     "output_type": "execute_result"
    }
   ],
   "source": [
    "df.columns"
   ]
  },
  {
   "cell_type": "markdown",
   "id": "06675f6a",
   "metadata": {},
   "source": [
    "### Lasso regression\n"
   ]
  },
  {
   "cell_type": "code",
   "execution_count": 98,
   "id": "40c42b11",
   "metadata": {},
   "outputs": [],
   "source": [
    "lm_l=Lasso()"
   ]
  },
  {
   "cell_type": "code",
   "execution_count": 99,
   "id": "0e739e33",
   "metadata": {},
   "outputs": [
    {
     "name": "stdout",
     "output_type": "stream",
     "text": [
      "[-21.59714508 -21.72127184 -21.16158019]\n",
      "-21.49333236661212\n"
     ]
    }
   ],
   "source": [
    "print(cross_val_score(lm_l, X_train, y_train,scoring='neg_mean_absolute_error',cv=3 ))\n",
    "print(np.mean(cross_val_score(lm_l, X_train, y_train,scoring='neg_mean_absolute_error',cv=3 )))"
   ]
  },
  {
   "cell_type": "code",
   "execution_count": 101,
   "id": "d6d93abb",
   "metadata": {},
   "outputs": [
    {
     "name": "stderr",
     "output_type": "stream",
     "text": [
      "C:\\Users\\progoti\\anaconda3\\lib\\site-packages\\sklearn\\linear_model\\_coordinate_descent.py:530: ConvergenceWarning: Objective did not converge. You might want to increase the number of iterations. Duality gap: 1755.9859945022763, tolerance: 56.02663189873419\n",
      "  model = cd_fast.enet_coordinate_descent(\n",
      "C:\\Users\\progoti\\anaconda3\\lib\\site-packages\\sklearn\\linear_model\\_coordinate_descent.py:530: ConvergenceWarning: Objective did not converge. You might want to increase the number of iterations. Duality gap: 61.336526878527366, tolerance: 53.60339368686869\n",
      "  model = cd_fast.enet_coordinate_descent(\n"
     ]
    }
   ],
   "source": [
    "#getting different values for alpha\n",
    "\n",
    "alpha=[]\n",
    "error=[]\n",
    "\n",
    "for i in range(1,100):\n",
    "    alpha.append(i/100)\n",
    "    lml=Lasso(alpha=(i/100))\n",
    "    error.append(np.mean(cross_val_score(lml, X_train, y_train,scoring='neg_mean_absolute_error',cv=3 )))"
   ]
  },
  {
   "cell_type": "code",
   "execution_count": 102,
   "id": "af55693b",
   "metadata": {},
   "outputs": [
    {
     "data": {
      "text/plain": [
       "[<matplotlib.lines.Line2D at 0x27bbfcfaf70>]"
      ]
     },
     "execution_count": 102,
     "metadata": {},
     "output_type": "execute_result"
    },
    {
     "data": {
      "image/png": "[encoded data removed]",
      "text/plain": [
       "<Figure size 432x288 with 1 Axes>"
      ]
     },
     "metadata": {
      "needs_background": "light"
     },
     "output_type": "display_data"
    }
   ],
   "source": [
    "plt.plot(alpha,error)"
   ]
  },
  {
   "cell_type": "code",
   "execution_count": 109,
   "id": "21660a71",
   "metadata": {},
   "outputs": [
    {
     "data": {
      "text/plain": [
       "((0.01, -19.979325534854127),\n",
       " (0.02, -19.558841813110423),\n",
       " (0.03, -19.369395346784742),\n",
       " (0.04, -19.260031163798583),\n",
       " (0.05, -19.22126688150701))"
      ]
     },
     "execution_count": 109,
     "metadata": {},
     "output_type": "execute_result"
    }
   ],
   "source": [
    "#Finding optimum alpha\n",
    "err=tuple(zip(alpha,error))\n",
    "err[:5]"
   ]
  },
  {
   "cell_type": "code",
   "execution_count": 110,
   "id": "cf97be72",
   "metadata": {},
   "outputs": [],
   "source": [
    "df_err=pd.DataFrame(err,columns=['alpha','error'])"
   ]
  },
  {
   "cell_type": "code",
   "execution_count": 114,
   "id": "ba415e3a",
   "metadata": {},
   "outputs": [
    {
     "data": {
      "text/html": [
       "<div>\n",
       "<style scoped>\n",
       "    .dataframe tbody tr th:only-of-type {\n",
       "        vertical-align: middle;\n",
       "    }\n",
       "\n",
       "    .dataframe tbody tr th {\n",
       "        vertical-align: top;\n",
       "    }\n",
       "\n",
       "    .dataframe thead th {\n",
       "        text-align: right;\n",
       "    }\n",
       "</style>\n",
       "<table border=\"1\" class=\"dataframe\">\n",
       "  <thead>\n",
       "    <tr style=\"text-align: right;\">\n",
       "      <th></th>\n",
       "      <th>alpha</th>\n",
       "      <th>error</th>\n",
       "    </tr>\n",
       "  </thead>\n",
       "  <tbody>\n",
       "    <tr>\n",
       "      <th>4</th>\n",
       "      <td>0.05</td>\n",
       "      <td>-19.221267</td>\n",
       "    </tr>\n",
       "    <tr>\n",
       "      <th>5</th>\n",
       "      <td>0.06</td>\n",
       "      <td>-19.233437</td>\n",
       "    </tr>\n",
       "    <tr>\n",
       "      <th>3</th>\n",
       "      <td>0.04</td>\n",
       "      <td>-19.260031</td>\n",
       "    </tr>\n",
       "    <tr>\n",
       "      <th>6</th>\n",
       "      <td>0.07</td>\n",
       "      <td>-19.266196</td>\n",
       "    </tr>\n",
       "    <tr>\n",
       "      <th>7</th>\n",
       "      <td>0.08</td>\n",
       "      <td>-19.335957</td>\n",
       "    </tr>\n",
       "    <tr>\n",
       "      <th>...</th>\n",
       "      <td>...</td>\n",
       "      <td>...</td>\n",
       "    </tr>\n",
       "    <tr>\n",
       "      <th>94</th>\n",
       "      <td>0.95</td>\n",
       "      <td>-21.350390</td>\n",
       "    </tr>\n",
       "    <tr>\n",
       "      <th>95</th>\n",
       "      <td>0.96</td>\n",
       "      <td>-21.379364</td>\n",
       "    </tr>\n",
       "    <tr>\n",
       "      <th>96</th>\n",
       "      <td>0.97</td>\n",
       "      <td>-21.408332</td>\n",
       "    </tr>\n",
       "    <tr>\n",
       "      <th>97</th>\n",
       "      <td>0.98</td>\n",
       "      <td>-21.437325</td>\n",
       "    </tr>\n",
       "    <tr>\n",
       "      <th>98</th>\n",
       "      <td>0.99</td>\n",
       "      <td>-21.466003</td>\n",
       "    </tr>\n",
       "  </tbody>\n",
       "</table>\n",
       "<p>99 rows × 2 columns</p>\n",
       "</div>"
      ],
      "text/plain": [
       "    alpha      error\n",
       "4    0.05 -19.221267\n",
       "5    0.06 -19.233437\n",
       "3    0.04 -19.260031\n",
       "6    0.07 -19.266196\n",
       "7    0.08 -19.335957\n",
       "..    ...        ...\n",
       "94   0.95 -21.350390\n",
       "95   0.96 -21.379364\n",
       "96   0.97 -21.408332\n",
       "97   0.98 -21.437325\n",
       "98   0.99 -21.466003\n",
       "\n",
       "[99 rows x 2 columns]"
      ]
     },
     "execution_count": 114,
     "metadata": {},
     "output_type": "execute_result"
    }
   ],
   "source": [
    "df_err.sort_values('error',ascending=False)"
   ]
  },
  {
   "cell_type": "code",
   "execution_count": 122,
   "id": "df2a6f12",
   "metadata": {},
   "outputs": [
    {
     "data": {
      "text/html": [
       "<div>\n",
       "<style scoped>\n",
       "    .dataframe tbody tr th:only-of-type {\n",
       "        vertical-align: middle;\n",
       "    }\n",
       "\n",
       "    .dataframe tbody tr th {\n",
       "        vertical-align: top;\n",
       "    }\n",
       "\n",
       "    .dataframe thead th {\n",
       "        text-align: right;\n",
       "    }\n",
       "</style>\n",
       "<table border=\"1\" class=\"dataframe\">\n",
       "  <thead>\n",
       "    <tr style=\"text-align: right;\">\n",
       "      <th></th>\n",
       "      <th>alpha</th>\n",
       "      <th>error</th>\n",
       "    </tr>\n",
       "  </thead>\n",
       "  <tbody>\n",
       "    <tr>\n",
       "      <th>4</th>\n",
       "      <td>0.05</td>\n",
       "      <td>-19.221267</td>\n",
       "    </tr>\n",
       "  </tbody>\n",
       "</table>\n",
       "</div>"
      ],
      "text/plain": [
       "   alpha      error\n",
       "4   0.05 -19.221267"
      ]
     },
     "execution_count": 122,
     "metadata": {},
     "output_type": "execute_result"
    }
   ],
   "source": [
    "df_err[df_err.error==max(df_err.error)]"
   ]
  },
  {
   "cell_type": "markdown",
   "id": "1a13d34a",
   "metadata": {},
   "source": [
    "So, error is minimum when alpha=0.05"
   ]
  },
  {
   "cell_type": "code",
   "execution_count": 137,
   "id": "0ec318db",
   "metadata": {},
   "outputs": [
    {
     "data": {
      "text/plain": [
       "Lasso(alpha=0.05)"
      ]
     },
     "execution_count": 137,
     "metadata": {},
     "output_type": "execute_result"
    }
   ],
   "source": [
    "#creating model with optimum alpha\n",
    "lm_l=Lasso(alpha=0.05)\n",
    "lm_l.fit(X_train, y_train)"
   ]
  },
  {
   "cell_type": "markdown",
   "id": "5769ab41",
   "metadata": {},
   "source": [
    "### Random forest\n",
    "\n",
    "Random forest model should work better here because there are a lot of 0 and 1"
   ]
  },
  {
   "cell_type": "code",
   "execution_count": 123,
   "id": "346a3eed",
   "metadata": {},
   "outputs": [],
   "source": [
    "from sklearn.ensemble import RandomForestRegressor\n",
    "\n",
    "rf=RandomForestRegressor()"
   ]
  },
  {
   "cell_type": "code",
   "execution_count": 124,
   "id": "747b738c",
   "metadata": {},
   "outputs": [
    {
     "name": "stdout",
     "output_type": "stream",
     "text": [
      "[-15.29800505 -15.80421717 -14.58322335]\n",
      "-15.185730229537336\n"
     ]
    }
   ],
   "source": [
    "print(cross_val_score(rf, X_train, y_train,scoring='neg_mean_absolute_error',cv=3 ))\n",
    "print(np.mean(cross_val_score(rf, X_train, y_train,scoring='neg_mean_absolute_error',cv=3 )))"
   ]
  },
  {
   "cell_type": "code",
   "execution_count": null,
   "id": "e93080e7",
   "metadata": {},
   "outputs": [],
   "source": []
  },
  {
   "cell_type": "code",
   "execution_count": null,
   "id": "47be5edf",
   "metadata": {},
   "outputs": [],
   "source": []
  },
  {
   "cell_type": "code",
   "execution_count": null,
   "id": "da7041ba",
   "metadata": {},
   "outputs": [],
   "source": []
  },
  {
   "cell_type": "markdown",
   "id": "1347a38a",
   "metadata": {},
   "source": [
    "### Tune models using GridsearchCV\n"
   ]
  },
  {
   "cell_type": "code",
   "execution_count": 127,
   "id": "2a0124c6",
   "metadata": {},
   "outputs": [
    {
     "data": {
      "text/plain": [
       "GridSearchCV(cv=3, estimator=RandomForestRegressor(),\n",
       "             param_grid={'criterion': ('mse', 'mae'),\n",
       "                         'max_features': ('auto', 'sqrt', 'log2'),\n",
       "                         'n_estimators': range(10, 300, 10)},\n",
       "             scoring='neg_mean_absolute_error')"
      ]
     },
     "execution_count": 127,
     "metadata": {},
     "output_type": "execute_result"
    }
   ],
   "source": [
    "from sklearn.model_selection import GridSearchCV\n",
    "parameters = {'n_estimators':range(10,300,10), 'criterion':('mse','mae'), 'max_features':('auto','sqrt','log2')}\n",
    "\n",
    "gs = GridSearchCV(rf,parameters, scoring='neg_mean_absolute_error',cv=3)\n",
    "gs.fit(X_train,y_train)"
   ]
  },
  {
   "cell_type": "code",
   "execution_count": 129,
   "id": "8cb4e267",
   "metadata": {},
   "outputs": [
    {
     "data": {
      "text/plain": [
       "-14.769519456645796"
      ]
     },
     "execution_count": 129,
     "metadata": {},
     "output_type": "execute_result"
    }
   ],
   "source": [
    "gs.best_score_"
   ]
  },
  {
   "cell_type": "code",
   "execution_count": 131,
   "id": "c95431b4",
   "metadata": {},
   "outputs": [
    {
     "data": {
      "text/plain": [
       "RandomForestRegressor(criterion='mae', n_estimators=180)"
      ]
     },
     "execution_count": 131,
     "metadata": {},
     "output_type": "execute_result"
    }
   ],
   "source": [
    "gs.best_estimator_"
   ]
  },
  {
   "cell_type": "markdown",
   "id": "0298f99c",
   "metadata": {},
   "source": [
    "### test ensembles"
   ]
  },
  {
   "cell_type": "code",
   "execution_count": 135,
   "id": "ce24987c",
   "metadata": {},
   "outputs": [],
   "source": [
    "tpred_lm=lm.predict(X_test)   #predicting for linear regression"
   ]
  },
  {
   "cell_type": "code",
   "execution_count": 138,
   "id": "3d3edc66",
   "metadata": {},
   "outputs": [],
   "source": [
    "tpred_lml=lm_l.predict(X_test)  #predicting for lasso regression (optimum alpha)"
   ]
  },
  {
   "cell_type": "code",
   "execution_count": 144,
   "id": "73cb4285",
   "metadata": {},
   "outputs": [],
   "source": [
    "tpred_rf=gs.best_estimator_.predict(X_test) #predicting for random forest regression (best estimators)"
   ]
  },
  {
   "cell_type": "code",
   "execution_count": 146,
   "id": "ae55c483",
   "metadata": {},
   "outputs": [
    {
     "name": "stdout",
     "output_type": "stream",
     "text": [
      "18.556617283944487\n",
      "18.735991783107707\n",
      "10.560943325876211\n"
     ]
    }
   ],
   "source": [
    "from sklearn.metrics import mean_absolute_error\n",
    "\n",
    "print(mean_absolute_error(y_test,tpred_lm))\n",
    "print(mean_absolute_error(y_test,tpred_lml))\n",
    "print(mean_absolute_error(y_test,tpred_rf))"
   ]
  },
  {
   "cell_type": "code",
   "execution_count": 150,
   "id": "4776640f",
   "metadata": {},
   "outputs": [
    {
     "name": "stdout",
     "output_type": "stream",
     "text": [
      "13.4857975333622\n"
     ]
    }
   ],
   "source": [
    "#combining multiple models\n",
    "\n",
    "print(mean_absolute_error(y_test,(tpred_lm+tpred_rf)/2))"
   ]
  },
  {
   "cell_type": "markdown",
   "id": "7ad47550",
   "metadata": {},
   "source": [
    "#### Conclusion\n",
    "\n",
    "- Random forest model works better\n",
    "- If you have 3 models, taking top 2 models to get average is a good idea. This generalizes better"
   ]
  },
  {
   "cell_type": "code",
   "execution_count": null,
   "id": "aae99f11",
   "metadata": {},
   "outputs": [],
   "source": []
  }
 ],
 "metadata": {
  "kernelspec": {
   "display_name": "Python 3",
   "language": "python",
   "name": "python3"
  },
  "language_info": {
   "codemirror_mode": {
    "name": "ipython",
    "version": 3
   },
   "file_extension": ".py",
   "mimetype": "text/x-python",
   "name": "python",
   "nbconvert_exporter": "python",
   "pygments_lexer": "ipython3",
   "version": "3.8.8"
  }
 },
 "nbformat": 4,
 "nbformat_minor": 5
}
